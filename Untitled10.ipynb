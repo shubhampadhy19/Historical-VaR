{
 "cells": [
  {
   "cell_type": "code",
   "execution_count": 42,
   "id": "77645cc1-c73b-4173-aedf-e9461d82322e",
   "metadata": {},
   "outputs": [],
   "source": [
    "import numpy as np"
   ]
  },
  {
   "cell_type": "code",
   "execution_count": 43,
   "id": "d2a72a0b-ab98-4da5-9c1b-65faf68f7934",
   "metadata": {},
   "outputs": [],
   "source": [
    "import pandas as pd"
   ]
  },
  {
   "cell_type": "code",
   "execution_count": 44,
   "id": "eddfb765-a4f6-4529-86bd-9cd74f235efc",
   "metadata": {},
   "outputs": [],
   "source": [
    "import datetime as dt "
   ]
  },
  {
   "cell_type": "code",
   "execution_count": 45,
   "id": "54137513-47a7-420b-bdbc-790957d5096f",
   "metadata": {},
   "outputs": [],
   "source": [
    "import yfinance as yf"
   ]
  },
  {
   "cell_type": "code",
   "execution_count": 46,
   "id": "f6215d48-a13a-4b69-8774-19f4182512fc",
   "metadata": {},
   "outputs": [],
   "source": [
    "import matplotlib.pyplot as plt "
   ]
  },
  {
   "cell_type": "code",
   "execution_count": 47,
   "id": "ccd8ba4a-1cfd-4299-a70c-127874ae8fe0",
   "metadata": {},
   "outputs": [],
   "source": [
    "from scipy.stats import norm"
   ]
  },
  {
   "cell_type": "code",
   "execution_count": 48,
   "id": "6d6f0ce9-8e24-4ca1-a208-c5b023dc8cc9",
   "metadata": {},
   "outputs": [],
   "source": [
    "years = 15"
   ]
  },
  {
   "cell_type": "code",
   "execution_count": 49,
   "id": "9e12478e-bcb4-473e-893c-e31c9062410a",
   "metadata": {},
   "outputs": [],
   "source": [
    "endDate = dt.datetime.now()"
   ]
  },
  {
   "cell_type": "code",
   "execution_count": 50,
   "id": "fee104b7-d45d-44ab-856f-975fb968a8ec",
   "metadata": {},
   "outputs": [],
   "source": [
    "startDate = endDate - dt.timedelta(days = 365*years)"
   ]
  },
  {
   "cell_type": "code",
   "execution_count": 51,
   "id": "e44a9e51-340c-4de9-8f77-f660b10d1782",
   "metadata": {},
   "outputs": [],
   "source": [
    "tickers = [\"SPY\", 'BND', 'GLD', 'QQQ', 'VTI']"
   ]
  },
  {
   "cell_type": "code",
   "execution_count": 52,
   "id": "b093a294-b05b-4881-a6d6-49253de943c6",
   "metadata": {},
   "outputs": [],
   "source": [
    "adj_close_df = pd.DataFrame()"
   ]
  },
  {
   "cell_type": "code",
   "execution_count": 53,
   "id": "fe84d238-03a6-499c-abbf-9da53ba43614",
   "metadata": {},
   "outputs": [
    {
     "name": "stderr",
     "output_type": "stream",
     "text": [
      "[*********************100%%**********************]  1 of 1 completed\n"
     ]
    },
    {
     "name": "stdout",
     "output_type": "stream",
     "text": [
      "                   SPY\n",
      "Date                  \n",
      "2009-07-08   66.552406\n",
      "2009-07-09   66.680931\n",
      "2009-07-10   66.522118\n",
      "2009-07-13   68.140533\n",
      "2009-07-14   68.526245\n",
      "...                ...\n",
      "2024-06-27  546.369995\n",
      "2024-06-28  544.219971\n",
      "2024-07-01  545.340027\n",
      "2024-07-02  549.010010\n",
      "2024-07-03  551.460022\n",
      "\n",
      "[3773 rows x 1 columns]\n"
     ]
    },
    {
     "name": "stderr",
     "output_type": "stream",
     "text": [
      "[*********************100%%**********************]  1 of 1 completed\n"
     ]
    },
    {
     "name": "stdout",
     "output_type": "stream",
     "text": [
      "                   SPY        BND\n",
      "Date                             \n",
      "2009-07-08   66.552406  50.789238\n",
      "2009-07-09   66.680931  50.639553\n",
      "2009-07-10   66.522118  50.821800\n",
      "2009-07-13   68.140533  50.737167\n",
      "2009-07-14   68.526245  50.587509\n",
      "...                ...        ...\n",
      "2024-06-27  546.369995  72.167953\n",
      "2024-06-28  544.219971  71.829002\n",
      "2024-07-01  545.340027  71.449997\n",
      "2024-07-02  549.010010  71.660004\n",
      "2024-07-03  551.460022  72.070000\n",
      "\n",
      "[3773 rows x 2 columns]\n"
     ]
    },
    {
     "name": "stderr",
     "output_type": "stream",
     "text": [
      "[*********************100%%**********************]  1 of 1 completed\n"
     ]
    },
    {
     "name": "stdout",
     "output_type": "stream",
     "text": [
      "                   SPY        BND         GLD\n",
      "Date                                         \n",
      "2009-07-08   66.552406  50.789238   89.269997\n",
      "2009-07-09   66.680931  50.639553   89.510002\n",
      "2009-07-10   66.522118  50.821800   89.580002\n",
      "2009-07-13   68.140533  50.737167   90.190002\n",
      "2009-07-14   68.526245  50.587509   90.809998\n",
      "...                ...        ...         ...\n",
      "2024-06-27  546.369995  72.167953  214.990005\n",
      "2024-06-28  544.219971  71.829002  215.009995\n",
      "2024-07-01  545.340027  71.449997  215.570007\n",
      "2024-07-02  549.010010  71.660004  215.559998\n",
      "2024-07-03  551.460022  72.070000  217.990005\n",
      "\n",
      "[3773 rows x 3 columns]\n"
     ]
    },
    {
     "name": "stderr",
     "output_type": "stream",
     "text": [
      "[*********************100%%**********************]  1 of 1 completed\n"
     ]
    },
    {
     "name": "stdout",
     "output_type": "stream",
     "text": [
      "                   SPY        BND         GLD         QQQ\n",
      "Date                                                     \n",
      "2009-07-08   66.552406  50.789238   89.269997   30.329489\n",
      "2009-07-09   66.680931  50.639553   89.510002   30.381912\n",
      "2009-07-10   66.522118  50.821800   89.580002   30.512970\n",
      "2009-07-13   68.140533  50.737167   90.190002   31.098417\n",
      "2009-07-14   68.526245  50.587509   90.809998   31.212015\n",
      "...                ...        ...         ...         ...\n",
      "2024-06-27  546.369995  72.167953  214.990005  481.609985\n",
      "2024-06-28  544.219971  71.829002  215.009995  479.109985\n",
      "2024-07-01  545.340027  71.449997  215.570007  481.920013\n",
      "2024-07-02  549.010010  71.660004  215.559998  486.980011\n",
      "2024-07-03  551.460022  72.070000  217.990005  491.040009\n",
      "\n",
      "[3773 rows x 4 columns]\n"
     ]
    },
    {
     "name": "stderr",
     "output_type": "stream",
     "text": [
      "[*********************100%%**********************]  1 of 1 completed"
     ]
    },
    {
     "name": "stdout",
     "output_type": "stream",
     "text": [
      "                   SPY        BND         GLD         QQQ         VTI\n",
      "Date                                                                 \n",
      "2009-07-08   66.552406  50.789238   89.269997   30.329489   33.553078\n",
      "2009-07-09   66.680931  50.639553   89.510002   30.381912   33.621449\n",
      "2009-07-10   66.522118  50.821800   89.580002   30.512970   33.537853\n",
      "2009-07-13   68.140533  50.737167   90.190002   31.098417   34.312870\n",
      "2009-07-14   68.526245  50.587509   90.809998   31.212015   34.556004\n",
      "...                ...        ...         ...         ...         ...\n",
      "2024-06-27  546.369995  72.167953  214.990005  481.609985  268.428009\n",
      "2024-06-28  544.219971  71.829002  215.009995  479.109985  267.510010\n",
      "2024-07-01  545.340027  71.449997  215.570007  481.920013  268.049988\n",
      "2024-07-02  549.010010  71.660004  215.559998  486.980011  269.600006\n",
      "2024-07-03  551.460022  72.070000  217.990005  491.040009  270.709991\n",
      "\n",
      "[3773 rows x 5 columns]\n"
     ]
    },
    {
     "name": "stderr",
     "output_type": "stream",
     "text": [
      "\n"
     ]
    }
   ],
   "source": [
    " for ticker in tickers:\n",
    "    data = yf.download(ticker, start = startDate, end = endDate)\n",
    "    adj_close_df[ticker] = data['Adj Close']\n",
    "    print(adj_close_df)   "
   ]
  },
  {
   "cell_type": "code",
   "execution_count": 54,
   "id": "4534d210-2e53-4eab-afef-7810534d8a89",
   "metadata": {},
   "outputs": [],
   "source": [
    "#Calculate daily log return , simple return is less smoother, log returns are additive."
   ]
  },
  {
   "cell_type": "code",
   "execution_count": 55,
   "id": "5e9e5de0-7b43-4b34-9d7e-fbdd589afb94",
   "metadata": {},
   "outputs": [],
   "source": [
    "log_returns = np.log(adj_close_df/adj_close_df.shift(1))"
   ]
  },
  {
   "cell_type": "code",
   "execution_count": 56,
   "id": "2e07896b-1351-445a-af46-78a56dba5ae0",
   "metadata": {},
   "outputs": [],
   "source": [
    "log_returns = log_returns.dropna()"
   ]
  },
  {
   "cell_type": "code",
   "execution_count": 57,
   "id": "682d0349-8745-43dc-8641-7dc0ca275a6d",
   "metadata": {},
   "outputs": [
    {
     "name": "stdout",
     "output_type": "stream",
     "text": [
      "                 SPY       BND       GLD       QQQ       VTI\n",
      "Date                                                        \n",
      "2009-07-09  0.001929 -0.002952  0.002685  0.001727  0.002036\n",
      "2009-07-10 -0.002385  0.003592  0.000782  0.004304 -0.002489\n",
      "2009-07-13  0.024038 -0.001667  0.006786  0.019005  0.022846\n",
      "2009-07-14  0.005645 -0.002954  0.006851  0.003646  0.007061\n",
      "2009-07-15  0.028827 -0.005030  0.015624  0.033043  0.029465\n",
      "...              ...       ...       ...       ...       ...\n",
      "2024-06-27  0.001575  0.001797  0.011273  0.002578  0.002416\n",
      "2024-06-28 -0.003943 -0.004708  0.000093 -0.005204 -0.003426\n",
      "2024-07-01  0.002056 -0.005290  0.002601  0.005848  0.002016\n",
      "2024-07-02  0.006707  0.002935 -0.000046  0.010445  0.005766\n",
      "2024-07-03  0.004453  0.005705  0.011210  0.008303  0.004109\n",
      "\n",
      "[3772 rows x 5 columns]\n"
     ]
    }
   ],
   "source": [
    "print(log_returns)"
   ]
  },
  {
   "cell_type": "code",
   "execution_count": 58,
   "id": "453e09ec-c115-477d-a3a4-90fd4b78b0f2",
   "metadata": {},
   "outputs": [],
   "source": [
    "#Lets make a weighted Portfolio.\n"
   ]
  },
  {
   "cell_type": "code",
   "execution_count": 59,
   "id": "3a70fa03-8381-4ec8-bc2c-b850d9aa729c",
   "metadata": {},
   "outputs": [
    {
     "name": "stdout",
     "output_type": "stream",
     "text": [
      "[0.2 0.2 0.2 0.2 0.2]\n"
     ]
    }
   ],
   "source": [
    "portfolio_value = 1000000\n",
    "weights = np.array([1/len(tickers)]*len(tickers))\n",
    "print(weights)"
   ]
  },
  {
   "cell_type": "code",
   "execution_count": 60,
   "id": "ccc812bf-6522-4ab6-a951-5b476f591486",
   "metadata": {},
   "outputs": [],
   "source": [
    "historical_returns = (log_returns * weights).sum(axis =1)"
   ]
  },
  {
   "cell_type": "code",
   "execution_count": 61,
   "id": "62986f14-85d6-44a3-ad52-529014f1d997",
   "metadata": {},
   "outputs": [
    {
     "name": "stdout",
     "output_type": "stream",
     "text": [
      "Date\n",
      "2009-07-09    0.001085\n",
      "2009-07-10    0.000761\n",
      "2009-07-13    0.014202\n",
      "2009-07-14    0.004050\n",
      "2009-07-15    0.020386\n",
      "                ...   \n",
      "2024-06-27    0.003928\n",
      "2024-06-28   -0.003438\n",
      "2024-07-01    0.001446\n",
      "2024-07-02    0.005161\n",
      "2024-07-03    0.006756\n",
      "Length: 3772, dtype: float64\n"
     ]
    }
   ],
   "source": [
    "print(historical_returns)"
   ]
  },
  {
   "cell_type": "code",
   "execution_count": 62,
   "id": "f35fb968-1d80-4eb8-a44c-018cd260989f",
   "metadata": {},
   "outputs": [],
   "source": [
    "days = 5 "
   ]
  },
  {
   "cell_type": "code",
   "execution_count": 63,
   "id": "92179198-a2a5-4f8a-aba6-6434a70dfae0",
   "metadata": {},
   "outputs": [],
   "source": [
    "range_returns = historical_returns.rolling(window = days).sum()\n",
    "range_returns = range_returns.dropna()"
   ]
  },
  {
   "cell_type": "code",
   "execution_count": 64,
   "id": "bc6065af-38f7-41fa-94e9-5a55315abf61",
   "metadata": {},
   "outputs": [
    {
     "name": "stdout",
     "output_type": "stream",
     "text": [
      "Date\n",
      "2009-07-15    0.040483\n",
      "2009-07-16    0.043713\n",
      "2009-07-17    0.045659\n",
      "2009-07-20    0.041266\n",
      "2009-07-21    0.041266\n",
      "                ...   \n",
      "2024-06-27   -0.001951\n",
      "2024-06-28   -0.001211\n",
      "2024-07-01    0.002612\n",
      "2024-07-02    0.004959\n",
      "2024-07-03    0.013854\n",
      "Length: 3768, dtype: float64\n"
     ]
    }
   ],
   "source": [
    "print(range_returns)"
   ]
  },
  {
   "cell_type": "code",
   "execution_count": 65,
   "id": "7bce2cf0-4033-4b8c-9e9b-30d960b07965",
   "metadata": {},
   "outputs": [],
   "source": [
    "confidence_interval = 0.99"
   ]
  },
  {
   "cell_type": "code",
   "execution_count": 66,
   "id": "02d860df-d51e-4b1a-b5fc-7881d132f76b",
   "metadata": {},
   "outputs": [
    {
     "name": "stdout",
     "output_type": "stream",
     "text": [
      "43538.551346515385\n"
     ]
    }
   ],
   "source": [
    "VaR = -np.percentile(range_returns, 100 - (confidence_interval * 100 ))*portfolio_value\n",
    "print(VaR)"
   ]
  },
  {
   "cell_type": "code",
   "execution_count": 67,
   "id": "bcc25b77-a1ab-4b29-96eb-6db0728ab54f",
   "metadata": {},
   "outputs": [],
   "source": [
    "return_window = days "
   ]
  },
  {
   "cell_type": "code",
   "execution_count": 68,
   "id": "54258bcf-db48-43d7-80d8-8125a2ad2429",
   "metadata": {},
   "outputs": [],
   "source": [
    "range_returns = historical_returns.rolling(window = return_window).sum()"
   ]
  },
  {
   "cell_type": "code",
   "execution_count": 69,
   "id": "e4e63d1e-2ac4-47c8-a8fb-8d935581a816",
   "metadata": {},
   "outputs": [],
   "source": [
    "range_returns = range_returns.dropna()"
   ]
  },
  {
   "cell_type": "code",
   "execution_count": 70,
   "id": "210b7a6d-3292-4d06-aab9-7af1ffea8bda",
   "metadata": {},
   "outputs": [],
   "source": [
    "range_returns_dollar = range_returns + portfolio_value"
   ]
  },
  {
   "cell_type": "code",
   "execution_count": 71,
   "id": "0241b1ea-7c8a-4737-8a35-82f958048a28",
   "metadata": {},
   "outputs": [
    {
     "data": {
      "image/png": "[encoded data removed]",
      "text/plain": [
       "<Figure size 640x480 with 1 Axes>"
      ]
     },
     "metadata": {},
     "output_type": "display_data"
    }
   ],
   "source": [
    "return_window = days\n",
    "range_returns = historical_returns.rolling(window=return_window).sum()\n",
    "range_returns = range_returns.dropna()\n",
    "\n",
    "range_returns_dollar = range_returns * portfolio_value\n",
    "\n",
    "plt.hist(range_returns_dollar.dropna(), bins=50, density=True)\n",
    "plt.xlabel(f'{return_window}-Day Portfolio Return (Dollar Value)')\n",
    "plt.ylabel('Frequency')\n",
    "plt.title(f'Distribution of Portfolio {return_window}-Day Returns (Dollar Value)')\n",
    "plt.axvline(-VaR, color='r', linestyle='dashed', linewidth=2, label=f'VaR at {confidence_interval:.0%} confidence level')\n",
    "plt.legend()\n",
    "plt.show()"
   ]
  },
  {
   "cell_type": "code",
   "execution_count": null,
   "id": "b0fb671d-9de0-478d-a731-4a7d2a54411b",
   "metadata": {},
   "outputs": [],
   "source": []
  }
 ],
 "metadata": {
  "kernelspec": {
   "display_name": "Python 3 (ipykernel)",
   "language": "python",
   "name": "python3"
  },
  "language_info": {
   "codemirror_mode": {
    "name": "ipython",
    "version": 3
   },
   "file_extension": ".py",
   "mimetype": "text/x-python",
   "name": "python",
   "nbconvert_exporter": "python",
   "pygments_lexer": "ipython3",
   "version": "3.11.7"
  }
 },
 "nbformat": 4,
 "nbformat_minor": 5
}
